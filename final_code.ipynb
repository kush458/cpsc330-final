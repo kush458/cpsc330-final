{
 "cells": [
  {
   "cell_type": "code",
   "execution_count": 1,
   "id": "f5fe59d5-3924-4523-a096-13f4af930420",
   "metadata": {},
   "outputs": [],
   "source": [
    "import numpy as np\n",
    "import pandas as pd\n",
    "from sklearn.compose import make_column_transformer\n",
    "from sklearn.datasets import fetch_openml\n",
    "from sklearn.ensemble import RandomForestClassifier\n",
    "from sklearn.linear_model import LogisticRegression\n",
    "from sklearn.model_selection import (\n",
    "    RandomizedSearchCV,\n",
    "    cross_val_score,\n",
    "    cross_validate,\n",
    "    train_test_split,\n",
    ")\n",
    "from sklearn.pipeline import make_pipeline"
   ]
  },
  {
   "cell_type": "code",
   "execution_count": null,
   "id": "63e0d3c8-eda5-465e-9497-8aebbe666435",
   "metadata": {},
   "outputs": [],
   "source": []
  },
  {
   "cell_type": "code",
   "execution_count": null,
   "id": "ec1bb902-37f4-4399-8a47-5d02e87fc78f",
   "metadata": {},
   "outputs": [],
   "source": [
    "# ct = make_column_transformer(\n",
    "#     (\n",
    "#         make_pipeline(SimpleImputer(), StandardScaler()),\n",
    "#         numeric_feats,\n",
    "#     ),  # scaling on numeric features\n",
    "#     (\"passthrough\", passthrough_feats),  # no transformations on the binary features    \n",
    "#     (OneHotEncoder(), categorical_feats),  # OHE on categorical features\n",
    "#     (\"drop\", drop_feats),  # drop the drop features\n",
    "# )\n",
    "\n",
    "# X_transformed = ct.fit_transform(X)"
   ]
  },
  {
   "cell_type": "code",
   "execution_count": null,
   "id": "3b3d15f5-54c8-4b16-998d-158aa3e85a7f",
   "metadata": {},
   "outputs": [],
   "source": [
    "# # since ct is an ndarray: reconstruct to dataframe\n",
    "# column_names = (\n",
    "#     numeric_feats\n",
    "#     + passthrough_feats    \n",
    "#     + ct.named_transformers_[\"onehotencoder\"].get_feature_names_out().tolist()\n",
    "# )\n",
    "# pd.DataFrame(X_transformed, columns=column_names)"
   ]
  },
  {
   "cell_type": "code",
   "execution_count": null,
   "id": "9ac4857d-1e96-43bf-b9aa-0cdf8db1b431",
   "metadata": {},
   "outputs": [],
   "source": [
    "# pipe = make_pipeline(ct, any_model)"
   ]
  },
  {
   "cell_type": "code",
   "execution_count": null,
   "id": "eeaf771e-f9d2-4652-93b0-04f7aa9dd41a",
   "metadata": {},
   "outputs": [],
   "source": [
    "# View coeffs and magnitude if linear model in pipe\n",
    "# data = {\n",
    "#     \"coefficient\": pipe_ridge.named_steps[\"ridge\"].coef_.tolist(),\n",
    "#     \"magnitude\": np.absolute(pipe_ridge.named_steps[\"ridge\"].coef_.tolist()),\n",
    "# }\n",
    "# coef_df = pd.DataFrame(data, index=california.feature_names).sort_values(\n",
    "#     \"magnitude\", ascending=False\n",
    "# )\n",
    "# coef_df"
   ]
  }
 ],
 "metadata": {
  "kernelspec": {
   "display_name": "Python [conda env:cpsc330]",
   "language": "python",
   "name": "conda-env-cpsc330-py"
  },
  "language_info": {
   "codemirror_mode": {
    "name": "ipython",
    "version": 3
   },
   "file_extension": ".py",
   "mimetype": "text/x-python",
   "name": "python",
   "nbconvert_exporter": "python",
   "pygments_lexer": "ipython3",
   "version": "3.10.6"
  }
 },
 "nbformat": 4,
 "nbformat_minor": 5
}
